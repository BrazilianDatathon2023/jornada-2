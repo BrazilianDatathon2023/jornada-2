{
 "cells": [
  {
   "cell_type": "code",
   "execution_count": 1,
   "id": "e3d8e48e",
   "metadata": {},
   "outputs": [],
   "source": [
    "import os\n",
    "import pandas as pd\n",
    "\n",
    "import zipfile"
   ]
  },
  {
   "cell_type": "code",
   "execution_count": 2,
   "id": "56d83df8",
   "metadata": {},
   "outputs": [],
   "source": [
    "import warnings\n",
    "warnings.filterwarnings(\"ignore\")"
   ]
  },
  {
   "cell_type": "code",
   "execution_count": 3,
   "id": "f97187d8",
   "metadata": {},
   "outputs": [],
   "source": [
    "path = 'Data/Data track/'"
   ]
  },
  {
   "cell_type": "markdown",
   "id": "89ea794f",
   "metadata": {},
   "source": [
    "### Read dataset"
   ]
  },
  {
   "cell_type": "code",
   "execution_count": 4,
   "id": "ef3831c4",
   "metadata": {},
   "outputs": [
    {
     "data": {
      "text/plain": [
       "['.DS_Store',\n",
       " 'ETLSINASC.DNRES_SP_2007_t.csv',\n",
       " 'ETLSINASC.DNRES_SP_2008_t.csv',\n",
       " 'ETLSINASC.DNRES_SP_2009_t.csv',\n",
       " 'ETLSINASC.DNRES_SP_2010_t.csv',\n",
       " 'ETLSINASC.DNRES_SP_2011_t.csv',\n",
       " 'ETLSINASC.DNRES_SP_2012_t.csv',\n",
       " 'ETLSINASC.DNRES_SP_2013_t.csv',\n",
       " 'ETLSINASC.DNRES_SP_2014_t.csv',\n",
       " 'ETLSINASC.DNRES_SP_2015_t.csv',\n",
       " 'ETLSINASC.DNRES_SP_2016_t.csv',\n",
       " 'ETLSINASC.DNRES_SP_2017_t.csv',\n",
       " 'ETLSINASC.DNRES_SP_2018_t.csv',\n",
       " 'ETLSINASC.DNRES_SP_2019_t.csv',\n",
       " 'ETLSINASC.DNRES_SP_2020_t.csv']"
      ]
     },
     "execution_count": 4,
     "metadata": {},
     "output_type": "execute_result"
    }
   ],
   "source": [
    "files = os.listdir(path)\n",
    "files.sort()\n",
    "files"
   ]
  },
  {
   "cell_type": "markdown",
   "id": "8417172b",
   "metadata": {},
   "source": [
    "### Select Columns"
   ]
  },
  {
   "cell_type": "code",
   "execution_count": 5,
   "id": "b0e28948",
   "metadata": {},
   "outputs": [],
   "source": [
    "variables = ['CODMUNNASC', 'LOCNASC', 'def_loc_nasc', 'IDADEMAE',\n",
    "             'def_est_civil', 'def_escol_mae', 'CODOCUPMAE',\n",
    "            'QTDFILVIVO', 'QTDFILMORT', 'CODMUNRES', 'def_gestacao',\n",
    "             'def_gravidez', 'def_parto', 'def_consultas', 'data_nasc',\n",
    "            'dia_semana_nasc', 'HORANASC', 'def_sexo',\n",
    "            'APGAR1', 'APGAR5', 'def_raca_cor', 'PESO', 'def_anomalia',\n",
    "            'CODANOMAL', 'NATURALMAE', 'CODMUNNATU', 'CODUFNATU',\n",
    "            'ESCMAE2010', 'SERIESCMAE', 'DTNASCMAE', 'RACACORMAE',\n",
    "            'QTDGESTANT', 'QTDPARTNOR', 'QTDPARTCES', 'IDADEPAI',\n",
    "            'SEMAGESTAC', 'TPMETESTIM', 'CONSPRENAT', 'MESPRENAT',\n",
    "            'TPAPRESENT', 'STTRABPART', 'STCESPARTO', 'TPNASCASSI',\n",
    "            'TPFUNCRESP', 'DTDECLARAC', 'CODPAISRES', 'TPROBSON',\n",
    "            'PARIDADE', 'KOTELCHUCK', 'nasc_MUNNOMEX', 'nasc_MSAUDCOD',\n",
    "            'nasc_RSAUDCOD', 'nasc_CSAUDCOD', 'nasc_LATITUDE', 'nasc_LONGITUDE',\n",
    "            'nasc_codigo_adotado', 'res_MUNNOMEX', 'res_MSAUDCOD',\n",
    "            'res_RSAUDCOD', 'res_LATITUDE', 'res_LONGITUDE',\n",
    "             'res_codigo_adotado', 'codanomal_categoria',\n",
    "             'codanomal_subcategoria', 'def_parto_prematuro']"
   ]
  },
  {
   "cell_type": "code",
   "execution_count": 6,
   "id": "fef35179",
   "metadata": {},
   "outputs": [
    {
     "name": "stdout",
     "output_type": "stream",
     "text": [
      "2007\n",
      "2008\n",
      "2009\n",
      "2010\n",
      "2011\n",
      "2012\n",
      "2013\n",
      "2014\n",
      "2015\n",
      "2016\n",
      "2017\n",
      "2018\n",
      "2019\n",
      "2020\n"
     ]
    }
   ],
   "source": [
    "dataset = {}\n",
    "\n",
    "for i, file in enumerate(files):\n",
    "    if file.endswith('.csv'):\n",
    "        year = file.split('_')[-2]\n",
    "        print(year)\n",
    "        df = pd.read_csv(os.path.join(path, file), on_bad_lines='skip')\n",
    "        dataset[year] = df"
   ]
  },
  {
   "cell_type": "code",
   "execution_count": 7,
   "id": "4326227b",
   "metadata": {},
   "outputs": [],
   "source": [
    "new_dict = {}\n",
    "for year in dataset:\n",
    "    \n",
    "    i = 0    \n",
    "    df = dataset[year]\n",
    "\n",
    "    for variable in variables:\n",
    "        try:\n",
    "            if i == 0:\n",
    "                i += 1\n",
    "                aux_df = df[variable]\n",
    "            else:\n",
    "                column = df[variable]\n",
    "                aux_df = pd.concat([aux_df, column], axis=1)\n",
    "        except:\n",
    "            continue\n",
    "    new_dict[year] = aux_df\n"
   ]
  },
  {
   "cell_type": "code",
   "execution_count": 8,
   "id": "5c9efa33",
   "metadata": {},
   "outputs": [],
   "source": [
    "dataset = new_dict"
   ]
  },
  {
   "cell_type": "markdown",
   "id": "1eeabbb5",
   "metadata": {},
   "source": [
    "### Merge the datasets into one"
   ]
  },
  {
   "cell_type": "code",
   "execution_count": 9,
   "id": "ac463c6c",
   "metadata": {},
   "outputs": [],
   "source": [
    "final_df = []\n",
    "i=0\n",
    "for year in dataset:\n",
    "    df = dataset[year]\n",
    "    if i==0:\n",
    "        i+=1\n",
    "        final_df = df\n",
    "    else: \n",
    "        final_df = pd.concat([final_df, df], axis=0)#.reset_index().rename(columns={'level_0':'Category'})"
   ]
  },
  {
   "cell_type": "code",
   "execution_count": 10,
   "id": "7baff827",
   "metadata": {},
   "outputs": [],
   "source": [
    "final_df.drop(labels=['CODMUNNASC', 'LOCNASC', 'def_loc_nasc', 'dia_semana_nasc', 'HORANASC', 'APGAR1','APGAR5', 'nasc_MSAUDCOD','nasc_RSAUDCOD','nasc_CSAUDCOD','nasc_LATITUDE','nasc_LONGITUDE','nasc_codigo_adotado', 'NATURALMAE','CODMUNNATU', 'CODUFNATU' ], axis=1, inplace=True)"
   ]
  },
  {
   "cell_type": "code",
   "execution_count": 11,
   "id": "f5fdcb03",
   "metadata": {},
   "outputs": [],
   "source": [
    "final_df.to_csv('Final_sao_paulo.csv', index=False)"
   ]
  }
 ],
 "metadata": {
  "kernelspec": {
   "display_name": "Python 3 (ipykernel)",
   "language": "python",
   "name": "python3"
  },
  "language_info": {
   "codemirror_mode": {
    "name": "ipython",
    "version": 3
   },
   "file_extension": ".py",
   "mimetype": "text/x-python",
   "name": "python",
   "nbconvert_exporter": "python",
   "pygments_lexer": "ipython3",
   "version": "3.9.10"
  }
 },
 "nbformat": 4,
 "nbformat_minor": 5
}
